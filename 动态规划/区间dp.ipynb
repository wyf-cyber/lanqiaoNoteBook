{
 "cells": [
  {
   "cell_type": "markdown",
   "metadata": {},
   "source": [
    "# 区间dp\n",
    "> 从小区间转换到大区间"
   ]
  },
  {
   "cell_type": "markdown",
   "metadata": {},
   "source": [
    "### 一、最长回文子序列\n",
    "> 题目来源：[516. 最长回文子序列](https://leetcode.cn/problems/longest-palindromic-subsequence/)\n",
    "\n",
    "**题目要求：**\\\n",
    "给你一个字符串 s ，找出其中最长的回文子序列，并返回该序列的长度。\n",
    "> 子序列定义为：不改变剩余字符顺序的情况下，删除某些字符或者不删除任何字符形成的一个序列。\n",
    "\n",
    "**输入格式：**\n",
    "> 输入一行，包含一个字符串，表示字符串s。\n",
    "\n",
    "**输出格式:**\n",
    "> 输出一个整数，表示最长回文子串长度。\n",
    "\n",
    "**数据范围:**\n",
    "> 1 <= s.length <= 1000\\\n",
    "> s 仅由小写英文字母组成\n",
    "\n",
    "**状态转移方程：**\\\n",
    "建立一个二维数组dp[i][j]记录 s[i:j]的最长回文子序列\n",
    "> 如果s[i] == s[j]:\n",
    "- dp[i+1][j-1] = dp[i][j] + 2\n",
    "> 如果s[i] != s[j]:\n",
    "- dp[i+1][j-1] = max(dp[i][j-1], dp[i+1][j])\n",
    "- dp[i+1][j]:表示不选左端点\n",
    "- dp[i][j-1]:表示不选右端点\n",
    "- dp[i][j]:表示都选（这一种情况包含在前两种中，所以不需要参与比较）"
   ]
  },
  {
   "cell_type": "code",
   "execution_count": null,
   "metadata": {},
   "outputs": [],
   "source": [
    "# 线性dp\n",
    "# 反转字符串以后求最长公共子序列\n",
    "# 求最长公共子序列的长度\n",
    "def f(s1,s2):\n",
    "    m = len(s1)\n",
    "    n = len(s2)\n",
    "    dp = [0]*(n+1)\n",
    "    for i in range(m):\n",
    "        pre = dp[0]\n",
    "        for j in range(n):\n",
    "            temp = dp[j+1]\n",
    "            if s1[i] == s2[j]:\n",
    "                dp[j+1] = pre+1\n",
    "            else:\n",
    "                dp[j+1] = max(dp[j],dp[j+1])\n",
    "            pre = temp\n",
    "    return dp[n]\n",
    "# 反转字符串\n",
    "def sw(s):\n",
    "    s1 = list(s)\n",
    "    n = len(s1)\n",
    "    m = n//2\n",
    "    for i in range(m):\n",
    "        temp = s1[i]\n",
    "        s1[i] = s1[n-i-1]\n",
    "        s1[n-i-1] = temp\n",
    "    return ''.join(s1)\n",
    "# 算法主体\n",
    "s1 = input()\n",
    "s2 = sw(s1)\n",
    "print(f(s1,s2))"
   ]
  },
  {
   "cell_type": "code",
   "execution_count": null,
   "metadata": {},
   "outputs": [],
   "source": [
    "# 区间dp\n",
    "# 空间复杂度：O(n*n)\n",
    "def f(s):\n",
    "    n = len(s)\n",
    "    # 注意不能是dp = [[0]*n]*n因为这种创建方法是浅复制\n",
    "    dp = [[0]*n for _ in range(n)]\n",
    "    for i in range(n-1,-1,-1):\n",
    "        dp[i][i] = 1\n",
    "        for j in range(i+1,n):\n",
    "            if s[i] == s[j]:\n",
    "                dp[i][j] = dp[i+1][j-1] + 2\n",
    "            else:\n",
    "                dp[i][j] = max(dp[i][j-1], dp[i+1][j])\n",
    "    return dp[0][n-1]"
   ]
  },
  {
   "cell_type": "code",
   "execution_count": null,
   "metadata": {},
   "outputs": [],
   "source": [
    "# 区间dp\n",
    "# 空间复杂度:O(n)\n",
    "def f(s):\n",
    "    n = len(n)\n",
    "    dp = [0]*n\n",
    "    for i in range(n-1,-1,-1):\n",
    "        dp[i] = 1\n",
    "        pre = 0 # pre = dp[i+1][j-1]\n",
    "        for j in range(i+1,n):\n",
    "            temp = dp[j]\n",
    "            if s[i] == s[j]:\n",
    "                dp[j] = pre + 2\n",
    "            else:\n",
    "                dp[j] = max(dp[j-1],dp[j])\n",
    "            pre = temp\n",
    "    return dp[n-1]"
   ]
  },
  {
   "cell_type": "markdown",
   "metadata": {},
   "source": [
    "### 二、多边形剖分的最小得分\n",
    "> 题目来源：[1039. 多边形剖分的最小得分](https://leetcode.cn/problems/minimum-score-triangulation-of-polygon/description/)\n",
    "\n",
    "**题目要求：**\\\n",
    "你有一个凸的 n 边形，其每个顶点都有一个整数值。给定一个整数数组 values ，其中 values[i] 是第 i 个顶点的值（即 顺时针顺序 ）。\\\n",
    "假设将多边形剖分为 n - 2 个三角形。对于每个三角形，该三角形的值是顶点标记的乘积，三角剖分的分数是进行三角剖分后所有 n - 2 个三角形的值之和。\\\n",
    "返回多边形进行三角剖分后可以得到的最低分。\n",
    "\n",
    "**输入格式：**\n",
    "> 输入一行，包含n个整数，表示多边形的顶点数值。\n",
    "\n",
    "**输出格式:**\n",
    "> 输出一个整数，表示多边形进行三角剖分后可以得到的最低分。\n",
    "\n",
    "**数据范围:**\n",
    ">n == values.length\\\n",
    "3 <= n <= 50\\\n",
    "1 <= values[i] <= 100\n",
    "\n",
    "**状态转移方程：**\\\n",
    "建立一个二维数组dp[i][j]记录从顶点 values[i] 顺时针到顶点 values[j] 的多边形剖分后可以得到的最低分。\n",
    "\n"
   ]
  },
  {
   "cell_type": "code",
   "execution_count": null,
   "metadata": {},
   "outputs": [],
   "source": [
    "# 递归\n",
    "def dfs(i,j):\n",
    "    global nums\n",
    "    if i >= i+1:\n",
    "        return 0\n",
    "    res = 12500000\n",
    "    for k in range(i+1,j):\n",
    "        res = min(res, dfs(i,k) + dfs(k,j) + nums[i]*nums[j]*nums[k])\n",
    "    return res\n",
    "\n",
    "nums = [int(i) for i in input().split()]\n",
    "print(dfs(0, len(nums)-1))"
   ]
  },
  {
   "cell_type": "code",
   "execution_count": null,
   "metadata": {},
   "outputs": [],
   "source": [
    "# 动态规划\n",
    "# 因为涉及三个下标变量，所以设置三重for循环\n",
    "# 因为dp[i] 的前驱是 dp[k]，所以i从后往前\n",
    "# 因为dp[j] 的前驱是 dp[k]，所以j从前往后\n",
    "def f(nums):\n",
    "    n = len(nums)\n",
    "    dp = [[0]*n for _ in range(n)]\n",
    "    for i in range(n-1,-1,-1):\n",
    "        for j in range(i+2,n):\n",
    "            temp = 125000000\n",
    "            for k in range(i+1,j):\n",
    "                temp = min(temp, dp[i][k]+dp[k][j]+nums[i]*nums[j]*nums[k])\n",
    "            dp[i][j] = temp\n",
    "    return dp[0][n-1]"
   ]
  }
 ],
 "metadata": {
  "kernelspec": {
   "display_name": "Python 3",
   "language": "python",
   "name": "python3"
  },
  "language_info": {
   "codemirror_mode": {
    "name": "ipython",
    "version": 3
   },
   "file_extension": ".py",
   "mimetype": "text/x-python",
   "name": "python",
   "nbconvert_exporter": "python",
   "pygments_lexer": "ipython3",
   "version": "3.12.0"
  }
 },
 "nbformat": 4,
 "nbformat_minor": 2
}
