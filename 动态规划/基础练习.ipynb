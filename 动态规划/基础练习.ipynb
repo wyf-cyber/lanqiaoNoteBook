{
 "cells": [
  {
   "cell_type": "markdown",
   "metadata": {},
   "source": [
    "# 动态规划（记忆化搜索）\n",
    "**适用条件：**\n",
    "1. 最优子结构：问题最优解的子问题包含的解也是最优的\n",
    "2. 无后效性：未来状态与过去状态无关，只与当前状态有关\n",
    "**算法思路：**\n",
    "> 将给定问题划分成若干子问题，直到子问题可以被直接解决。然后把子问题的答保存下来以免重复计算，然后根据子问题反推出原问题解的方法\n",
    "\n",
    "动态规划也称为递推（暴力深搜+记忆中间状态结果）其中：\n",
    "- 递推公式 = dfs向下递归的公式\n",
    "- 递推列表的初始值 = 递归的边界"
   ]
  },
  {
   "cell_type": "markdown",
   "metadata": {},
   "source": [
    "## 一、跳台阶\n",
    "问题概述：\n",
    "> 一个楼梯共有n级台阶，一次可以跨越1级或2级台阶，问从第0级走到第n级共有几种方案\n",
    "> 要求输入台阶数n，返回方案的个数\n",
    "\n",
    "解题思路：\n",
    "对于第i级台阶(i >= 3)来说，它的前驱台阶可能是i-1，也可能是i-2，所以从第0阶台阶上到第i阶台阶的方案数等于上到第i-1阶台阶的方案数加上上到第i-2阶台阶的方案数"
   ]
  },
  {
   "cell_type": "code",
   "execution_count": null,
   "metadata": {},
   "outputs": [],
   "source": [
    "# 使用DFS直接搜索\n",
    "# 时间复杂度:O(2的n次方)\n",
    "def f(n)->int:\n",
    "    if n <= 0:\n",
    "        return 0\n",
    "    elif n == 1:\n",
    "        return 1\n",
    "    elif n == 2:\n",
    "        return 2\n",
    "    else :\n",
    "        return f(n-1)+f(n-2)\n",
    "\n",
    "print(f(int(input())))"
   ]
  },
  {
   "cell_type": "code",
   "execution_count": null,
   "metadata": {},
   "outputs": [],
   "source": [
    "# 使用动态规划\n",
    "# 时间复杂度：O(n)\n",
    "def f(n):\n",
    "    # 创建一个列表存储从0到第i级台阶的方案数  \n",
    "    dp = [0]*(n+1) # 使用列表推导式初始化列表\n",
    "    dp[0], dp[1], dp[2] = 0, 1, 2\n",
    "    if n > 2:\n",
    "        for i in range(3, n+1):\n",
    "            # 补充完成剩余的列表元素\n",
    "            dp[i] = dp[i-1] + dp[i-2]\n",
    "    print(dp[n])\n",
    "\n",
    "f(int(input()))"
   ]
  },
  {
   "cell_type": "markdown",
   "metadata": {},
   "source": [
    "## 二、大盗阿福\n",
    "**题目描述：**\n",
    "> 阿福是一名经验丰富的大盗。趁着月黑风高，阿福打算今晚洗劫一条街上的店铺。\n",
    "这条街上一共有 N 家店铺，每家店中都有一些现金。阿福事先调查得知，只有当他同时洗劫了两家相邻的店铺时，街上的报警系统才会启动，然后警察就会蜂拥而至。\n",
    "作为一向谨慎作案的大盗，阿福不愿意冒着被警察追捕的风险行窃。他想知道，在不惊动警察的情况下，他今晚最多可以得到多少现金？\n",
    "\n",
    "**输入:**\n",
    "> 输入的第一行是一个整数T(T≤50) ，表示一共有T组数据。\n",
    "接下来的每组数据，第一行是一个整数N(1≤N≤100,000) ，表示一共有N家店铺。第二行是N个被空格分开的正整数，表示每一家店铺中的现金数量。每家店铺中的现金数量均不超过1000。\n",
    "\n",
    "**输出:**\n",
    "> 对于每组数据，输出一行。该行包含一个整数，表示阿福在不惊动警察的情况下可以得到的现金数量。\n",
    "\n",
    "解题思路：\n",
    "分析可知，被选中的两家店之间可能间隔1家店，也可能间隔2家店，但不可能间隔大于等于3家店，因为间隔的三家店中中间的那一家也可以同时被选中，如果不选，则该方案一定不是最优方案。"
   ]
  },
  {
   "cell_type": "code",
   "execution_count": null,
   "metadata": {},
   "outputs": [],
   "source": [
    "# personnal attempt\n",
    "def f():\n",
    "    # 接收输入\n",
    "    n = int(input())\n",
    "    money = [int(i) for i in input().split()]\n",
    "    # 算法主体\n",
    "    if n < 3:\n",
    "        print(max(money))\n",
    "        return\n",
    "    elif n == 3:\n",
    "        print(max(money[1], money[0]+money[2]))\n",
    "        return\n",
    "    # 建立一个列表存储到达每一家店时最大的收益\n",
    "    dp = []\n",
    "    dp.append(money[0])\n",
    "    dp.append(money[1])\n",
    "    dp.append(money[0] + money[2])\n",
    "    for i in range(3, n):\n",
    "        dp.append(money[i] + max(dp[i-2], dp[i-3]))\n",
    "    print(max(dp))\n",
    "\n",
    "t = int(input())\n",
    "for i in range(t):\n",
    "    f()"
   ]
  },
  {
   "cell_type": "code",
   "execution_count": null,
   "metadata": {},
   "outputs": [],
   "source": [
    "# optimize version\n",
    "def f(n, money):\n",
    "    # n = len(money)\n",
    "    if n == 1:\n",
    "        print(money[0])\n",
    "        return \n",
    "    elif n == 2:\n",
    "        print(max(money))\n",
    "        return\n",
    "    elif n == 3:\n",
    "        print(max(money[1], money[0]+money[2]))\n",
    "        return\n",
    "    # 初始化dp列表\n",
    "    dp = [0]*n\n",
    "    dp[0] = money[0]\n",
    "    dp[1] = max(money[0], money[1])\n",
    "    dp[2] = max(money[1], money[0] + money[2])\n",
    "    for i in range(3, n):\n",
    "        dp[i] = money[i] + max(dp[i-2], dp[i-3])\n",
    "    print(max(dp))\n",
    "\n",
    "t = int(input())\n",
    "for i in range(t):\n",
    "    f(int(input()), [int(k) for k in input().split()])"
   ]
  },
  {
   "cell_type": "markdown",
   "metadata": {},
   "source": [
    "## 三、最长子序列\n",
    "**题目描述：**\n",
    "> 阿\n",
    "\n",
    "**输入:**\n",
    "> 输入的第一行是一个整数T(T≤50) ，表示一共有T组数据。\n",
    "接下来的每组数据，第一行是一个整数N(1≤N≤100,000) ，表示一共有N家店铺。第二行是N个被空格分开的正整数，表示每一家店铺中的现金数量。每家店铺中的现金数量均不超过1000。\n",
    "\n",
    "**输出:**\n",
    "> 对于每组数据，输出一行。该行包含一个整数，表示阿福在不惊动警察的情况下可以得到的现金数量。\n",
    "\n",
    "解题思路：\n",
    "分析可知，被选中的两家店之间可能间隔1家店，也可能间隔2家店，但不可能间隔大于等于3家店，因为间隔的三家店中中间的那一家也可以同时被选中，如果不选，则该方案一定不是最优方案。"
   ]
  }
 ],
 "metadata": {
  "kernelspec": {
   "display_name": "Python 3",
   "language": "python",
   "name": "python3"
  },
  "language_info": {
   "codemirror_mode": {
    "name": "ipython",
    "version": 3
   },
   "file_extension": ".py",
   "mimetype": "text/x-python",
   "name": "python",
   "nbconvert_exporter": "python",
   "pygments_lexer": "ipython3",
   "version": "3.12.0"
  }
 },
 "nbformat": 4,
 "nbformat_minor": 2
}
