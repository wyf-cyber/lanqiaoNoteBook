{
 "cells": [
  {
   "cell_type": "markdown",
   "metadata": {},
   "source": [
    "> 动态规划（记忆化搜索）：\n",
    "> \n",
    "> 将给定问题划分成若干子问题，直到子问题可以被直接解决。然后把子问题的答保存下来以免重复计算，然后根据子问题反推出原问题解的方法"
   ]
  },
  {
   "cell_type": "markdown",
   "metadata": {},
   "source": [
    "# 三角形最小路径和\n",
    "> Problem: [LCR 100. 三角形最小路径和](https://leetcode.cn/problems/IlPe0q/description/)\n",
    "\n",
    "<!-- TOC -->\n",
    "\n",
    "### 思路\n",
    "> 题目是一个标准的深度优先搜索问题，因为每一层中的元素会多次被使用，所以可以通过创建列表存储到达该点所需要的最小路径和（记忆化搜索）的方式提升效率。记忆化搜索也就是动态规划。\n",
    "\n",
    "### 解题方法\n",
    "> 自然的方法是自上而下，找出每一层各元素到三角形上顶点的最小路径和，然后在最后一层中选出最小路径。但这种方法中每一层的元素需要分成左端点、中间节点和右端点三类，最后还需要遍历一整行找出最小值，算法的时间复杂度较高。 \n",
    "1. 最左侧的节点：前驱节点只能是tri[i-1][0]\n",
    "2. 最右侧的节点：前驱节点只能是tri[i-1][i-1]\n",
    "3. 中间的节点  ：前驱节点可以是tri[i-1][j] or tri[i-1][j+1]\n",
    "> 通过对题目的观察可知题目不要求找出最短路径中的每一个元素，所以也可以自下而上的查找，存储每一个元素到最后一层的最小路径和。这样每一层只有一种节点（前驱节点一定是 tri[i+1][j] or tri[i+1][j+1]），不必区分左右端点，而且最后只需返回dp[0][0]即可，因为dp[0][0]存储的就是三角形上顶点到三角形最下层的最小路径和。\n",
    "\n",
    "### 复杂度\n",
    "时间复杂度:\n",
    "> $O(n^2)$\n",
    "\n",
    "空间复杂度:\n",
    "> $O(n)$"
   ]
  },
  {
   "cell_type": "code",
   "execution_count": null,
   "metadata": {},
   "outputs": [],
   "source": [
    "# 自上而下计算最小和\n",
    "def f()->int:\n",
    "    # 读取输入\n",
    "    n = int(input())\n",
    "    tri = []\n",
    "    for i in range(n):\n",
    "        tri.append([int(j) for j in input().split()])\n",
    "    # 算法主体\n",
    "    if not tri:\n",
    "        # 如果列表为空，返回0\n",
    "        return 0\n",
    "    rows = len(tri)\n",
    "    dp = []\n",
    "    # 第一行特殊处理\n",
    "    dp.append([tri[0][0]])\n",
    "    for i in range(1, rows):\n",
    "        temp = []\n",
    "        for j in range(i+1):\n",
    "            if j == 0:\n",
    "                temp.append(tri[i][0]+dp[i-1][0])\n",
    "            elif j < i:\n",
    "                temp.append(tri[i][j]+min(dp[i-1][j-1], dp[i-1][j]))\n",
    "            else:\n",
    "                temp.append(tri[i][j]+dp[i-1][j-1])\n",
    "        dp.append(temp)\n",
    "    return min(dp[-1])\n",
    "print(f())"
   ]
  },
  {
   "cell_type": "code",
   "execution_count": 5,
   "metadata": {},
   "outputs": [],
   "source": [
    "# 除了自上而下的计算，还可以自下而上地求出dp列表的值\n",
    "# 在自下而上的过程中，三角形每一层都只有一种节点，而且在第一行只有一个节点，不需要寻找最小值，可以显著提高效率\n",
    "def f()->int:\n",
    "    n = int(input())\n",
    "    tri = []\n",
    "    for i in range(n):\n",
    "        tri.append([int(j) for j in input().split()])\n",
    "    # 算法主体\n",
    "    # 创建dp列表\n",
    "    dp = tri[:] # 利用切片拷贝tri列表\n",
    "    for row in range(n-2, -1, -1):\n",
    "        for col in range(row+1):\n",
    "            dp[row][col] = min(dp[row+1][col], dp[row+1][col+1]) + tri[row][col]\n",
    "    return dp[0][0]\n",
    "\n",
    "print(f())"
   ]
  }
 ],
 "metadata": {
  "kernelspec": {
   "display_name": "Python 3",
   "language": "python",
   "name": "python3"
  },
  "language_info": {
   "codemirror_mode": {
    "name": "ipython",
    "version": 3
   },
   "file_extension": ".py",
   "mimetype": "text/x-python",
   "name": "python",
   "nbconvert_exporter": "python",
   "pygments_lexer": "ipython3",
   "version": "3.12.0"
  }
 },
 "nbformat": 4,
 "nbformat_minor": 2
}
