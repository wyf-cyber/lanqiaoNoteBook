{
 "cells": [
  {
   "cell_type": "markdown",
   "metadata": {},
   "source": [
    "> 动态规划（记忆化搜索）：\n",
    "> \n",
    "> 将给定问题划分成若干子问题，直到子问题可以被直接解决。然后把子问题的答保存下来以免重复计算，然后根据子问题反推出原问题解的方法"
   ]
  },
  {
   "cell_type": "markdown",
   "metadata": {},
   "source": [
    "## 背包问题\n",
    "**目录：**\n",
    "1. 0-1背包问题\n",
    "2. 完全背包问题\n",
    "3. 多重背包问题\n",
    "4. 多重背包问题（二进制优化）"
   ]
  },
  {
   "cell_type": "markdown",
   "metadata": {},
   "source": [
    "### 一、0-1背包问题\n",
    "**问题描述：**\n",
    "> 给定一系列物品，每一个物品都有一个重量 w 和一个价值 v，现有一个容量为C的背包，要求装填以后背包中所有物品的价值之和最大，求此时装填物品的组合方式。\n",
    "\n",
    "**问题要点：**\n",
    "- 每一个物品都有一个价值和重量\n",
    "- 每一个物品只有被选中和不被选中两种状态\n",
    "- 不能重复选取同一个物品\n",
    "- 组合中所有物品的总重量应当小于等于容量C\n",
    "- 组合中所有物品的总价值应当尽可能地大\n",
    "\n",
    "**状态转移方程：**\n",
    "> 设dp[i][j]，其中i表示对第i件物品进行选择，j表示背包中剩余的空间，dp数组的值表示该状态下背包中物品最大的总价值\\\n",
    "> dp初始化为0，表示在选择之前背包为空\\\n",
    "> $if j >= w[i],dp[i][j] = max(dp[i-1][j], dp[i-1][j-w[i]]+v[i])$\\\n",
    "> $if j < w[i],dp[i][j] = dp[i-1][j]$"
   ]
  },
  {
   "cell_type": "code",
   "execution_count": null,
   "metadata": {},
   "outputs": [],
   "source": [
    "# classic version\n",
    "w = [1,2,3,4,5,6,7,8,9,10]\n",
    "v = [1,2,3,4,5,6,7,8,9,10]\n",
    "st = 10 # the number of items\n",
    "V = 40  # the volumn of this backbag\n",
    "dp = [[0]*(V+1) for _ in range(st+1)]\n",
    "for i in range(1,st+1):\n",
    "    # choose whether the pick this item or not\n",
    "    for j in range(V,0,-1):\n",
    "        # refresh all of the states that have different volumn\n",
    "        if w[i] <= j:\n",
    "            dp[i][j] = max(dp[i-1][j], dp[i-1][j-w[i]] + v[i])\n",
    "        else:\n",
    "            # room is not enough\n",
    "            dp[i][j] = dp[i-1][j]\n",
    "ans = max(dp[st])"
   ]
  },
  {
   "cell_type": "code",
   "execution_count": null,
   "metadata": {},
   "outputs": [],
   "source": [
    "# 滚动数组优化存储空间\n",
    "w = [1,2,3,4,5,6,7,8,9,10]\n",
    "v = [1,2,3,4,5,6,7,8,9,10]\n",
    "st = 10 # the number of items\n",
    "V = 40  # the volumn of this backbag\n",
    "dp = [0]*(V+1)\n",
    "for i in range(1,st+1):\n",
    "    for j in range(V,0,-1):\n",
    "        if w[i] <= j:\n",
    "            # 因为j从后往前遍历，所以不会覆盖小于当前j的数据\n",
    "            dp[j] = max(dp[j], dp[j-w[i]]+v[i])\n",
    "        # dp[j] = dp[j] can be skipped\n",
    "ans = max(dp)"
   ]
  },
  {
   "cell_type": "markdown",
   "metadata": {},
   "source": [
    "#### 例题：P2871 [USACO07DEC] Charm Bracelet S\n",
    "\n",
    "> 题目链接：[P2871 [USACO07DEC] Charm Bracelet S](https://www.luogu.com.cn/problem/P2871)"
   ]
  },
  {
   "cell_type": "code",
   "execution_count": null,
   "metadata": {},
   "outputs": [],
   "source": [
    "# 内存超出限制\n",
    "n,m = map(int,input().split())\n",
    "w = [0]*n\n",
    "d = [0]*n\n",
    "dp = [[0]*(m+1) for i in range(n+1)]\n",
    "for i in range(n):\n",
    "    w[i], d[i] = map(int,input().split())\n",
    "for cur in range(n-1,-1,-1):\n",
    "    for vleft in range(m+1):\n",
    "        # 不取该物品的情况\n",
    "        dp[cur][vleft] = dp[cur+1][vleft]\n",
    "        if vleft >= w[cur]:\n",
    "            dp[cur][vleft] = max(dp[cur][vleft], dp[cur+1][vleft-w[cur]]+d[cur])\n",
    "print(dp[0][m])"
   ]
  },
  {
   "cell_type": "code",
   "execution_count": null,
   "metadata": {},
   "outputs": [],
   "source": [
    "# 超时，原因未知，但用C++就可以过\n",
    "n,m = map(int,input().split())\n",
    "w = [0]*n\n",
    "d = [0]*n\n",
    "dp = [0]*(m+1)\n",
    "for i in range(n):\n",
    "    w[i],d[i] = map(int,input().split())\n",
    "for cur in range(n):\n",
    "    for vleft in range(m, 0,-1):\n",
    "        if vleft >= w[cur]:\n",
    "            dp[vleft] = max(dp[vleft], dp[vleft-w[cur]]+d[cur])\n",
    "print(dp[m])"
   ]
  },
  {
   "cell_type": "markdown",
   "metadata": {},
   "source": [
    "### 二、完全背包问题\n",
    "**问题描述：**\n",
    "> 有一个背包的容积为V，有N个物品，每个物品的体积为v[i]，权重为w[i]，每个物品可以取无限次放入背包中，求背包所有物品权重和的最大值。\n",
    "\n",
    "**问题要点：**\n",
    "- 每一个物品都有一个价值和重量\n",
    "- 每一个物品只有被选中若干次和不被选中多种状态\n",
    "- 可以重复选取同一个物品\n",
    "- 组合中所有物品的总重量应当小于等于容量V\n",
    "- 组合中所有物品的总价值应当尽可能地大\n",
    "\n",
    "**状态转移方程：**\n",
    "> 设dp[i][j]，其中i表示对第i件物品进行选择，j表示背包中剩余的空间，dp数组的值表示该状态下背包中物品最大的总价值\\\n",
    "> dp初始化为0，表示在选择之前背包为空\\\n",
    "> $if j >= w[i],dp[i][j] = max(dp[i-1][j], dp[i][j-w[i]]+v[i])$\\\n",
    "> $if j < w[i],dp[i][j] = dp[i-1][j]$"
   ]
  },
  {
   "cell_type": "code",
   "execution_count": null,
   "metadata": {},
   "outputs": [],
   "source": [
    "# classic version\n",
    "w = [1,2,3,4,5,6,7,8,9,10]\n",
    "v = [1,2,3,4,5,6,7,8,9,10]\n",
    "st = 10 # the number of items\n",
    "V = 40  # the volumn of this backbag\n",
    "dp = [[0]*(V+1) for _ in range(st+1)]\n",
    "for i in range(1,st+1):\n",
    "    for j in range(w[i],V+1):\n",
    "        dp[i][j] = max(dp[i-1][j],dp[i][j-w[i]]+v[i])\n",
    "ans = dp[st][V]"
   ]
  },
  {
   "cell_type": "code",
   "execution_count": null,
   "metadata": {},
   "outputs": [],
   "source": [
    "# 滚动数组优化存储空间\n",
    "w = [1,2,3,4,5,6,7,8,9,10]\n",
    "v = [1,2,3,4,5,6,7,8,9,10]\n",
    "st = 10 # the number of items\n",
    "V = 40  # the volumn of this backbag\n",
    "dp = [0]*(V+1)\n",
    "for i in range(1, st+1):\n",
    "    for j in range(w[i],V+1):\n",
    "        # 注意关键在于第二重循环是从左往右进行的，这样dp[j]就可以从dp[j-w[i]]中求得，相当于重复多次取w[i]\n",
    "        dp[j] = max(dp[j], dp[j-w[i]]+v[i])\n",
    "ans = dp[V]"
   ]
  },
  {
   "cell_type": "markdown",
   "metadata": {},
   "source": [
    "#### 例题：P1616 疯狂的采药\n",
    "\n",
    "> 题目链接：[P1616 疯狂的采药](https://www.luogu.com.cn/problem/P1616)"
   ]
  },
  {
   "cell_type": "code",
   "execution_count": null,
   "metadata": {},
   "outputs": [],
   "source": [
    "t,m = map(int,input().split())\n",
    "tcost = [0]*m\n",
    "vget = [0]*m\n",
    "dp = [0]*(t+1)\n",
    "for i in range(m):\n",
    "    tcost[i],vget[i] = map(int,input().split())\n",
    "for i in range(m):\n",
    "    # 只允许采摘前m种草药\n",
    "    for tleft in range(tcost[i],t+1):\n",
    "        # 注意是从前往后搜索，可以多次选取\n",
    "        dp[tleft] = max(dp[tleft], dp[tleft-tcost[i]]+vget[i])\n",
    "print(dp[t])"
   ]
  },
  {
   "cell_type": "markdown",
   "metadata": {},
   "source": [
    "### 三、多重背包问题\n",
    "**问题描述：**\n",
    "> 有一个背包的容积为V，有N个物品，每个物品的体积为v[i]，权重为w[i]，每个物品最多可以取s[i]个放入背包中，求背包所有物品权重和的最大值。\n",
    "\n",
    "**问题要点：**\n",
    "- 每一个物品都有一个价值和重量\n",
    "- 每一个物品都有被选中若干次和不被选中多种状态\n",
    "- 可以重复选取同一个物品\n",
    "- 组合中所有物品的总重量应当小于等于容量V\n",
    "- 组合中所有物品的总价值应当尽可能地大\n",
    "\n",
    "**状态转移方程：**\n",
    "> 设dp[i][j]，其中i表示对第i件物品进行选择，j表示背包中剩余的空间，dp数组的值表示该状态下背包中物品最大的总价值\\\n",
    "> dp初始化为0，表示在选择之前背包为空\\\n",
    "> $if j >= w[i],dp[i][j] = max(dp[i-1][j], dp[i][j-w[i]]+v[i])$\\\n",
    "> $if j < w[i],dp[i][j] = dp[i-1][j]$\n",
    "\n",
    "**其他解法：**\n",
    "> 因为多重背包的物品数是有限的，我们也可以在创建物品代价和价值数组时进行一定的修改，将其转化成01背包问题。"
   ]
  },
  {
   "cell_type": "code",
   "execution_count": null,
   "metadata": {},
   "outputs": [],
   "source": [
    "# classic version\n",
    "w = [1,2,3,4,5,6,7,8,9,10]\n",
    "v = [1,2,3,4,5,6,7,8,9,10]\n",
    "nums = [2,2,3,3,4,4,5,5,6,6]\n",
    "st = 10 # the number of items\n",
    "V = 40  # the volumn of this backbag\n",
    "dp = [[0]*(V+1) for _ in range(st+1)]\n",
    "for i in range(1,st+1):\n",
    "    for j in range(1,V+1):\n",
    "        for k in range(1,nums[i]+1):\n",
    "            if k*w[i] <= j:\n",
    "                dp[i][j] = max(dp[i-1][j], dp[i-1][j-k*w[i]]+k*v[i])\n",
    "            else:\n",
    "                dp[i][j] = dp[i-1][j]\n",
    "                break\n",
    "print(dp[st][V])"
   ]
  },
  {
   "cell_type": "code",
   "execution_count": null,
   "metadata": {},
   "outputs": [],
   "source": [
    "# 滚动数组优化存储空间\n",
    "w = [1,2,3,4,5,6,7,8,9,10]\n",
    "v = [1,2,3,4,5,6,7,8,9,10]\n",
    "nums = [2,2,3,3,4,4,5,5,6,6]\n",
    "st = 10 # the number of items\n",
    "V = 40  # the volumn of this backbag\n",
    "dp = [0]*(V+1) \n",
    "for i in range(1,st+1):\n",
    "    for j in range(V,0,-1):\n",
    "        for k in range(1,nums[i]+1):\n",
    "            if k*w[i] <= j:\n",
    "                dp[j] = max(dp[j], dp[j-k*w[i]]+k*v[i])\n",
    "            else:\n",
    "                break\n",
    "print(dp[V])"
   ]
  },
  {
   "cell_type": "markdown",
   "metadata": {},
   "source": [
    "#### 多重背包的二进制分组优化\n",
    "多重背包问题嵌套了三重循环，时间复杂度较高。注意到将多重背包问题转化成01背包以后，对于由相同元素转换成的元素$w_1,w_2,w_3...$，取$w_1,w_2$等价于取$w_1,w_3$，也就是说原程序做了很多重复的计算，为了避免取到相同数量的同种元素，我们可以将m个同种元素分成由$2^x$组成的组，然后由各个小组作为新的元素代替原来的m个元素进行01背包选择。其中$m = 2^0 + 2^1 + 2^2 + ... + 2^k + （m - 2^{floor(log_2(m+1)) - 1}$（例：16 = 1+2+4+8+1）"
   ]
  },
  {
   "cell_type": "code",
   "execution_count": null,
   "metadata": {},
   "outputs": [],
   "source": [
    "# 读取输入数据并将其分组\n",
    "v,n = map(int,input().split())\n",
    "w = []\n",
    "v = []\n",
    "for i in range(n):\n",
    "    weight,value,k = map(int,input().split())\n",
    "    c = 1 # 二进制权重\n",
    "    while k > c:\n",
    "        # k is enough to fill another level\n",
    "        k -= c\n",
    "        # put this new item into list\n",
    "        w.append(weight*c)\n",
    "        v.append(value*c)\n",
    "        c *= 2\n",
    "    if k > 0:\n",
    "        w.append(weight*k)\n",
    "        v.append(value*k) \n",
    "# 其余代码和01背包相同\n",
    "dp = [0]*(v+1)\n",
    "for i in range(len(w)):\n",
    "    for tleft in range(v,0,-1):\n",
    "        if tleft >= w[i]:\n",
    "            dp[tleft] = max(dp[tleft], dp[tleft-w[i]]+v[i])\n",
    "print(dp[v])"
   ]
  },
  {
   "cell_type": "markdown",
   "metadata": {},
   "source": [
    "### 四、二维背包\n",
    "**问题描述：**\n",
    "> 有若干事件，每完成一个事件需要消耗两种资源，同时产出一种价值，问在两种资源总量有限的情况下如何产出最大的价值。\n",
    "\n",
    "**解题思路：**\n",
    "> 这类问题的实质和一维背包问题是一致的，只需要将dp数组再开一维存储另一种价值的余量即可。但要注意此时需要在选择模块为新的资源增添一重for循环。此外，还应注意使用三维数组有很大风险导致MLE，使用一维存储事件序数是不明智的行为，最好能够引入滚动数组进行空间优化。"
   ]
  },
  {
   "cell_type": "markdown",
   "metadata": {},
   "source": [
    "#### 例题：P1855 榨取kkksc03\n",
    "> 题目链接：[P1855 榨取kkksc03](https://www.luogu.com.cn/problem/P1855)"
   ]
  },
  {
   "cell_type": "code",
   "execution_count": null,
   "metadata": {},
   "outputs": [],
   "source": [
    "# 典型的多重01背包问题\n",
    "# 看似是一个贪心问题，实则因为是二维问题而难以直接入手\n",
    "# 完成事件的价值恒为1\n",
    "n,m,t = map(int,input().split())\n",
    "w1 = [0]*n\n",
    "w2 = [0]*n\n",
    "for i in range(n):\n",
    "    w1[i],w2[i] = map(int,input().split())\n",
    "dp = [[0]*(m+1) for i in range(t+1)]\n",
    "# dp[time][money]\n",
    "for i in range(n):\n",
    "    for time in range(t,w2[i]-1,-1):\n",
    "        for money in range(m,w1[i]-1,-1):\n",
    "            dp[time][money] = max(dp[time][money],dp[time-w2[i]][money-w1[i]]+1)\n",
    "print(dp[t][m])"
   ]
  },
  {
   "cell_type": "markdown",
   "metadata": {},
   "source": [
    "## 例题演示"
   ]
  },
  {
   "cell_type": "markdown",
   "metadata": {},
   "source": [
    "### 例题一、货物摆放\n",
    "> 题目链接：[货物摆放（蓝桥杯）](https://www.lanqiao.cn/problems/1463/learning/?page=1&first_category_id=1&second_category_id=3&name=%E8%B4%A7%E7%89%A9%E6%91%86%E6%94%BE)"
   ]
  },
  {
   "cell_type": "code",
   "execution_count": null,
   "metadata": {},
   "outputs": [],
   "source": [
    "# 因数分解 + 背包问题\n",
    "n = 2021041820210418\n",
    "yinshu = [] # 记录n所有的因数，注意因子不等于因数\n",
    "# 求因数\n",
    "x = n # 另创一个变量以免修改原值\n",
    "i = 2\n",
    "while i < pow(x,0.5):\n",
    "    if x % i == 0:\n",
    "        x //= i\n",
    "        # 注意可能会同时记录多个因数\n",
    "        yinshu.append(i)\n",
    "    else:\n",
    "        i += 1\n",
    "# 记得将剩余的数加入列表!!!\n",
    "yinshu.append(x)\n",
    "\n",
    "# 利用因数求出因子\n",
    "s = set() \n",
    "s.add(1)\n",
    "for i in yinshu:\n",
    "    # 取出一个因数i，将i与集合中所有的元素相乘即可获得新的因子\n",
    "    # 因为没有重复使用同一个因数，所以新获得的因子一定是可以整除n的\n",
    "    # 0-1 背包思想\n",
    "    temp = set() # 注意新生成的因子不能与i相乘，所以新生成的因子不能直接加入s中\n",
    "    for j in s:\n",
    "        temp.add(i*j)\n",
    "    # 将新生成的因子加入s中\n",
    "    for j in temp:\n",
    "        s.add(j)\n",
    "\n",
    "# 现在s中存储着所有的因子，只需要找到三个数即可\n",
    "# 注意到前两个数确定后，第三个数随之确定，所以实际上只需要两重for循环\n",
    "ans = 0\n",
    "for i in s:\n",
    "    for j in s:\n",
    "        if n%(i*j) == 0:\n",
    "            ans += 1\n",
    "print(ans)"
   ]
  },
  {
   "cell_type": "markdown",
   "metadata": {},
   "source": [
    "### 例题二 采药\n",
    "\n",
    "> 题目链接：[采药（NOIP2005普及组）](https://www.luogu.com.cn/problem/P1048)"
   ]
  },
  {
   "cell_type": "code",
   "execution_count": null,
   "metadata": {},
   "outputs": [],
   "source": [
    "# DFS \n",
    "# 70%超时\n",
    "def dfs(cur, tleft, sumV):\n",
    "    global m, ans, tcost, vget\n",
    "    # 如果在添加上一个节点后时间为负数，说明添加失败，进行回溯，不记录本次的总价值\n",
    "    if tleft < 0:\n",
    "        return \n",
    "    # 将整个数组遍历一遍，将搜索出的总价值与当前最大值进行比较\n",
    "    if cur >= m:\n",
    "        ans = max(ans, sumV)\n",
    "        return\n",
    "    # 开始搜索下一个节点，当前cur指针所指节点有采摘和不采摘两种选择\n",
    "    dfs(cur+1, tleft, sumV)\n",
    "    dfs(cur+1, tleft-tcost[cur], sumV+vget[cur])\n",
    "\n",
    "# main part\n",
    "t,m = map(int,input().split())\n",
    "tcost = [0]*m\n",
    "vget = [0]*m\n",
    "for i in range(m):\n",
    "    tcost[i],vget[i] = map(int,input().split())\n",
    "ans = 0\n",
    "dfs(0,t,0)\n",
    "print(ans)"
   ]
  },
  {
   "cell_type": "markdown",
   "metadata": {},
   "source": [
    "将DFS递归算法转成相应的dp算法，最简单的思路是将DFS函数的参数作为dp数组的序号，从而实现记忆化搜索"
   ]
  },
  {
   "cell_type": "code",
   "execution_count": null,
   "metadata": {},
   "outputs": [],
   "source": [
    "# 完全正确\n",
    "def dfs(cur, tleft):\n",
    "    global m, tcost, vget, dp\n",
    "    if dp[cur][tleft] != -1:\n",
    "        # 当前状况已经被搜索过了，直接返回结果即可\n",
    "        return dp[cur][tleft]\n",
    "    if cur >= m:\n",
    "        return 0\n",
    "    notadd = dfs(cur+1, tleft)\n",
    "    add = 0\n",
    "    if tleft >= tcost[cur]:\n",
    "        # 有足够的时间采摘当前草药，尝试采摘\n",
    "        add = dfs(cur+1, tleft-tcost[cur]) + vget[cur]\n",
    "    # 将当前状态所对应的最大草药价值记录在数组中\n",
    "    dp[cur][tleft] = max(notadd, add)\n",
    "    return dp[cur][tleft]\n",
    "\n",
    "# dp优化\n",
    "# 设置一个二维数组，两个坐标分别表示遍历草药的序号和剩余时间\n",
    "t,m = map(int, input().split())\n",
    "# dp[i][tleft]:表示从第i号草药开始采摘，采摘时间为tleft时所能采摘到草药的最大价值和\n",
    "dp = [[-1]*(t+1) for i in range(m+1)]\n",
    "tcost = [0]*m\n",
    "vget = [0]*m\n",
    "for i in range(m):\n",
    "    tcost[i], vget[i] = map(int, input().split())\n",
    "ans = dfs(0,t)\n",
    "print(ans)"
   ]
  },
  {
   "cell_type": "code",
   "execution_count": null,
   "metadata": {},
   "outputs": [],
   "source": [
    "# 为了进一步提升效率，还可以将其改写成递推形式，避免多次的函数调用\n",
    "t,m = map(int,input().split())\n",
    "dp = [[0]*(t+1) for i in range(m+1)]\n",
    "tcost = [0]*m\n",
    "vget = [0]*m\n",
    "for i in range(m):\n",
    "    tcost[i], vget[i] = map(int, input().split())\n",
    "# 递推部分\n",
    "# 因为左边的dp[cur]的求解依赖于dp[cur+1]所以从右往左遍历\n",
    "for cur in range(m-1,-1, -1):\n",
    "    for tleft in range(t+1):\n",
    "        # 决定不同余量的情况下是否采摘下标为cur的草药\n",
    "        if tleft >= tcost[cur]:\n",
    "            dp[cur][tleft] = max(dp[cur+1][tleft], dp[cur+1][tleft-tcost[cur]]+vget[cur])\n",
    "        else:\n",
    "            dp[cur][tleft] = dp[cur+1][tleft]\n",
    "print(dp[0][t])            "
   ]
  }
 ],
 "metadata": {
  "language_info": {
   "name": "python"
  }
 },
 "nbformat": 4,
 "nbformat_minor": 2
}
