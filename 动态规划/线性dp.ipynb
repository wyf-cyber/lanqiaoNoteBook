{
 "cells": [
  {
   "cell_type": "markdown",
   "metadata": {},
   "source": [
    "# 线性dp\n",
    "> 在前缀或后缀上转换"
   ]
  },
  {
   "cell_type": "markdown",
   "metadata": {},
   "source": [
    "### 一、最长上升子序列\n",
    "> 题目来源：[4557. 最长上升子序列 ](https://www.acwing.com/problem/content/3513/)\n",
    "\n",
    "**题目要求：**\\\n",
    "给定一个长度为 N 的整数序列 a1,a2,…,aN。请你计算该序列的最长上升子序列的长度。上升子序列是指数值严格单调递增的子序列。\n",
    "**输入格式：**\n",
    "> 第一行包含整数 N。第二行包含 N 个整数 a1,a2,…,aN。\n",
    "\n",
    "**输出格式:**\n",
    "> 一行，一个整数，表示最长上升子序列的长度。\n",
    "\n",
    "**数据范围:**\n",
    "> 1≤n≤106,序列内元素取值范围 [1,106]。"
   ]
  },
  {
   "cell_type": "code",
   "execution_count": 1,
   "metadata": {},
   "outputs": [],
   "source": [
    "def dfs(left,right,nums)->int:\n",
    "    if left > right:\n",
    "        return 0\n",
    "    elif left == right:\n",
    "        return 1\n",
    "    elif nums[left] < nums[right]:\n",
    "        return dfs(left+1,right-1,nums) + 2\n",
    "    return max(dfs(left+1,right,nums), dfs(left,right-1,nums)) "
   ]
  },
  {
   "cell_type": "markdown",
   "metadata": {},
   "source": [
    "### 二、最长公共子序列\n",
    "> 题目来源：[3510. 最长公共子序列](https://www.acwing.com/problem/content/3513/)\n",
    "\n",
    "**题目要求：**\\\n",
    "给出两个长度为 n 的整数序列，求它们的最长公共子序列（LCS）的长度，保证第一个序列中所有元素都不重复。\n",
    "注意：\n",
    "- 第一个序列中的所有元素均不重复。\n",
    "- 第二个序列中可能有重复元素。\n",
    "- 一个序列中的某些元素可能不在另一个序列中出现。\n",
    "**输入格式：**\n",
    "> 第一行包含一个整数 n。接下来两行，每行包含 n 个整数，表示一个整数序列。\n",
    "\n",
    "**输出格式:**\n",
    "> 输出一个整数，表示最长公共子序列的长度。\n",
    "\n",
    "**数据范围:**\n",
    "> 1≤n≤106,序列内元素取值范围 [1,106]。"
   ]
  },
  {
   "cell_type": "code",
   "execution_count": 2,
   "metadata": {},
   "outputs": [],
   "source": [
    "# 递归\n",
    "# 时间复杂度:O(n*n)\n",
    "def dfs(m,n):\n",
    "    a = len(m)\n",
    "    b = len(n)\n",
    "    if not (a and b):\n",
    "        return 0 # 两个串中存在空串，说明已耗尽，直接返回0\n",
    "    elif m[0] == n[0]:\n",
    "        return dfs(m[1:],n[1:]) + 1\n",
    "    return max(dfs(m[1:],n), dfs(m, n[1:]))\n",
    "l = int(input())\n",
    "print(dfs([int(i) for i in input().split()], [int(i) for i in input().split()]))"
   ]
  },
  {
   "cell_type": "code",
   "execution_count": null,
   "metadata": {},
   "outputs": [],
   "source": [
    "# 线性dp\n",
    "# 时间复杂度:O(n*n)\n",
    "def cunt(n,a,b):\n",
    "    f = [[0]*(n+1) for i in range(n+1)]\n",
    "    for i in range(n-1,-1,-1):\n",
    "        for j in range(n-1,-1,-1):\n",
    "            if a[i] == b[j]:\n",
    "                f[i][j] = f[i+1][j+1] + 1\n",
    "            else:\n",
    "                f[i][j] = max(f[i+1][j], f[i][j+1])\n",
    "    return f[0][0]\n",
    "\n",
    "print(cunt(int(input()), [int(i) for i in input().split()], [int(i) for i in input().split()]))"
   ]
  },
  {
   "cell_type": "code",
   "execution_count": null,
   "metadata": {},
   "outputs": [],
   "source": [
    "# 优化存储空间\n",
    "# 虽然问题涉及两个列表，但实际上公共子序列在每一个列表中均相同\n",
    "# 空间复杂度:O(n)\n",
    "def f(p,q):\n",
    "    m = len(p)\n",
    "    n = len(q)\n",
    "    dp = [0]*(m+1)\n",
    "    # dp[i]存储p[0:i]与列表q的最大公共子序列长度\n",
    "    for i in range(m):\n",
    "        for j in range(n):\n",
    "            if p[i] == q[j]:\n",
    "                dp[i+1] = dp[i+1] + 1\n",
    "        dp[i+1] = max(dp[i+1], dp[i])\n",
    "    return dp[m] "
   ]
  },
  {
   "cell_type": "code",
   "execution_count": null,
   "metadata": {},
   "outputs": [],
   "source": [
    "# 最长上升子序列\n",
    "def f(nums):\n",
    "    n = len(nums)\n",
    "    d = [1]*n\n",
    "    res = 1\n",
    "    for i in range(1,n):\n",
    "        for j in range(i):\n",
    "            if nums[j] < nums[i]:\n",
    "                d[i] = max(d[i], d[j]+1)\n",
    "        res = max(res, d[i])\n",
    "    return res\n",
    "\n",
    "# 转换成最长递增子序列\n",
    "n = int(input())\n",
    "a = [int(i) for i in input().split()]\n",
    "id = [-1]*107\n",
    "for i in range(n):\n",
    "    # 记录每一个元素在第一个数组中的索引\n",
    "    id[a[i]] = i\n",
    "# 建立一个列表存储第二个列表中每一个元素在第一个列表中出现的下标\n",
    "# 同时筛除不在第一个列表中的元素\n",
    "b = [int(i) for i in input().split()]\n",
    "d = []\n",
    "for i in b:\n",
    "    if id[i] == -1:\n",
    "        continue\n",
    "    else:\n",
    "        d.append(id[i])\n",
    "# 列表d的最长递增子序列的长度即为最长公共子序列\n",
    "# 列表d本身的索引之间的相对关系确定了b列表，列表d的元素值确定了a列表\n",
    "print(f(d))"
   ]
  },
  {
   "cell_type": "markdown",
   "metadata": {},
   "source": [
    "### 三、最短编辑距离\n",
    "> 题目来源：[72. 编辑距离](https://leetcode.cn/problems/edit-distance/description/)\n",
    "\n",
    "**题目要求：**\n",
    "给你两个单词 word1 和 word2，请返回将 word1 转换成 word2 所使用的最少操作数。你可以对一个单词进行如下三种操作：\n",
    "- 插入一个字符\n",
    "- 删除一个字符\n",
    "- 替换一个字符\n",
    "\n",
    "**输入格式：**\n",
    "> 输入两行，每一行包含一个字符串，表示单词。\n",
    "\n",
    "**输出格式:**\n",
    "> 输出一个整数，表示最小操作次数。\n",
    "\n",
    "**数据范围:**\n",
    "> 0 <= word1.length, word2.length <= 500，word1 和 word2 由小写英文字母组成\n",
    "\n",
    "**状态转移方程：**\\\n",
    "建立一个二维数组dp[i][j]记录 word1[0:i] 和 word2[0:j] 两个子串的编辑距离\n",
    "> 如果word1[i] == word2[j]:\n",
    "- dp[i+1][j+1] = dp[i][j]\n",
    "> 如果word1[i] != word2[j]:\n",
    "- dp[i+1][j+1] = min(dp[i+1][j], dp[i][j+1], dp[i][j]) + 1\n",
    "- dp[i+1][j]:表示插入操作\n",
    "- dp[i][j+1]:表示删除操作\n",
    "- dp[i][j]:表示修改操作"
   ]
  },
  {
   "cell_type": "code",
   "execution_count": null,
   "metadata": {},
   "outputs": [],
   "source": [
    "# 递归\n",
    "def f(s1,s2,i,j):\n",
    "    if i < 0:\n",
    "        return j+1\n",
    "    elif j < 0:\n",
    "        return i+1\n",
    "    elif s1[i] == s2[j]:\n",
    "        return f(s1,s2,i-1,j-1)\n",
    "    else:\n",
    "        return min(f(s1,s2,i-1,j),f(s1,s2,i,j-1),f(s1,s2,i-1,j-1))+1\n",
    "s1 = input()\n",
    "s2 = input()\n",
    "print(f(s1,s2,len(s1)-1,len(s2)-1))"
   ]
  },
  {
   "cell_type": "code",
   "execution_count": null,
   "metadata": {},
   "outputs": [],
   "source": [
    "# 递推\n",
    "def f(p,q):\n",
    "    m = len(p)\n",
    "    n = len(q)\n",
    "    dp = [0]*(n+1)\n",
    "    for i in range(m):\n",
    "        pre = dp[0]\n",
    "        for j in range(n):\n",
    "            temp = dp[j+1]\n",
    "            if p[i] == q[j]:\n",
    "                dp[j+1] = temp\n",
    "            else:\n",
    "                dp[j+1] = min(dp[j], dp[j+1], pre) + 1\n",
    "    return dp[n]\n",
    "\n",
    "print(f(input(), input()))"
   ]
  },
  {
   "cell_type": "code",
   "execution_count": null,
   "metadata": {},
   "outputs": [],
   "source": [
    "# 动态规划（一维数组简化版）\n",
    "def f(s1,s2):\n",
    "    m = len(s1)\n",
    "    n = len(s2)\n",
    "    # dp = [0,1,2,3,...]\n",
    "    dp = list(range(n+1))\n",
    "    for i in range(m):\n",
    "        pre = dp[0]\n",
    "        # 向下挪动一行，保证dp[i] = i+1\n",
    "        dp[0] += 1\n",
    "        for j in range(n):\n",
    "            temp = dp[j+1]\n",
    "            if s1[i] == s2[j]:\n",
    "                dp[j+1] = pre\n",
    "            else:\n",
    "                dp[j+1] = min(dp[j],dp[j+1],pre) + 1\n",
    "            pre = temp\n",
    "    return dp[n]"
   ]
  },
  {
   "cell_type": "markdown",
   "metadata": {},
   "source": [
    "### 四、接龙序列\n",
    "> 题目来源：[接龙序列（蓝桥杯）](https://www.lanqiao.cn/problems/3512/learning/?page=36&first_category_id=1&second_category_id=3)\n"
   ]
  },
  {
   "cell_type": "code",
   "execution_count": null,
   "metadata": {},
   "outputs": [],
   "source": [
    "def get(s):\n",
    "    return int(s[0]), int(s[-1])\n",
    "n = int(input())\n",
    "nums = [get(i) for i in input().split()]\n",
    "# 创建一个数组,dp[i]存储以数字i结尾的序列的最大长度\n",
    "dp = [0]*10\n",
    "for i,v in enumerate(nums):\n",
    "    if i == 0:\n",
    "        dp[v[1]] = 1\n",
    "        continue\n",
    "    # dp[v[0]]+1本身暗藏了一个删除操作，表示将当前元素的前面的不适配元素删去，留下当前元素\n",
    "    # dp[v[1]]则表示将当前元素删去，不修改原数据\n",
    "    dp[v[1]] = max(dp[v[0]]+1,dp[v[1]])\n",
    "print(n-max(dp))"
   ]
  }
 ],
 "metadata": {
  "kernelspec": {
   "display_name": "Python 3",
   "language": "python",
   "name": "python3"
  },
  "language_info": {
   "codemirror_mode": {
    "name": "ipython",
    "version": 3
   },
   "file_extension": ".py",
   "mimetype": "text/x-python",
   "name": "python",
   "nbconvert_exporter": "python",
   "pygments_lexer": "ipython3",
   "version": "3.12.0"
  }
 },
 "nbformat": 4,
 "nbformat_minor": 2
}
