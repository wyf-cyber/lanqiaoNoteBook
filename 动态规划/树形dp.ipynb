{
 "cells": [
  {
   "cell_type": "markdown",
   "metadata": {},
   "source": [
    "# 树形dp\n",
    "> 二叉树的深度优先搜索天然地具有原问题和子问题的特点，适合使用递归解决。为了提升递归的效率，引入记忆化搜索，也就是树形dp"
   ]
  },
  {
   "cell_type": "markdown",
   "metadata": {},
   "source": [
    "一、二叉树的直径\n",
    "> Problem One: [543. 二叉树的直径](https://leetcode.cn/problems/diameter-of-binary-tree/description/)\n",
    "\n",
    "**题目要求：**\\\n",
    "给你一棵二叉树的根节点，返回该树的直径。\\\n",
    "二叉树的直径是指树中任意两个节点之间最长路径的长度。这条路径可能经过也可能不经过根节点 root 。\n",
    "两节点之间路径的长度由它们之间边数表示。\n",
    "\n",
    "**输入格式：**\n",
    "> 输入一行，包含一个字符串列表，表示二叉树。\n",
    "\n",
    "**输出格式:**\n",
    "> 输出一个整数，表示最长回文子串长度。\n",
    "\n",
    "**数据范围:**\n",
    "> 1 <= s.length <= 1000\\\n",
    "> s 仅由小写英文字母组成\n",
    "\n",
    "**状态转移方程：**\\\n",
    "建立一个二维数组dp[i][j]记录 s[i:j]的最长回文子序列\n",
    "> 如果s[i] == s[j]:\n",
    "- dp[i+1][j-1] = dp[i][j] + 2\n",
    "> 如果s[i] != s[j]:"
   ]
  }
 ],
 "metadata": {
  "language_info": {
   "name": "python"
  }
 },
 "nbformat": 4,
 "nbformat_minor": 2
}
