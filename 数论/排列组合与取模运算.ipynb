{
 "cells": [
  {
   "cell_type": "markdown",
   "metadata": {},
   "source": [
    "# 取模运算\n",
    "在算法题中，题目的答案往往很大，超出了表示范围。针对数据规模可以分为以下几种情况：\n",
    "## （一）答案本身不超过表示范围，但运算过程中的中间变量可能会溢出\n",
    "**解法：** 转换成递推\\\n",
    "常用的递推策略：\n",
    "- $C_m^n \\equiv C_{m-1}^{n-1} + C_{m-1}^n$\n",
    "- $ln{C_{m}^{n}} = lnm! - lnn! - ln(m-n)! = \\sum_{i=1}^{m}lni - \\sum_{i=1}^{n}lni - \\sum_{i=1}^{m-n}lni$\n",
    "## （二）答案超出表示范围，题目给出p要求返回答案对p取模运算的结果\n",
    "由于答案超出表示范围，所以不能先算出答案然后取模。此时，我们需要考虑如何在计算过程中进行取模才能获得所需答案。\n",
    "### 加减乘取模\n",
    "加减法和乘法对取模运算是封闭的，也就是所在加减操作中添加取模运算时，既可以先分别对操作数进行取模然后运算，也可以先运算然后对结果取模，这两种方式所得结果是相同的，不过为了提升效率往往选择后者。\n",
    "> (12 + 3)%10 = 5\\\n",
    "> 12%10 = 2  3%10 = 3 \\\n",
    "> 2 + 3 = 5\n",
    "### 除法取模\n",
    "在除法运算中，先取模后运算将会得到错误答案，为了解决这一问题，学者引入了逆元。要求除法取模统一使用逆元解决。"
   ]
  },
  {
   "cell_type": "markdown",
   "metadata": {},
   "source": [
    "## 逆元\n",
    "### 一、定义\n",
    "a 的逆元记作 inv(a)，相当于 a 在模 p 下的 1/a。\n",
    "> $a/b \\equiv a * inv(b)\\pmod{p}$\n",
    "\n",
    "### 二、求解方法\n",
    "- 拓展欧几里得（高频重点）\n",
    "- 费马小定理（当且仅当p是质数）\n",
    "- 线性递推（求解1~n一系列数对于p的逆元）"
   ]
  },
  {
   "cell_type": "code",
   "execution_count": null,
   "metadata": {},
   "outputs": [],
   "source": [
    "# 拓展欧几里得\n",
    "def exgcd(a, b):\n",
    "    if b == 0:\n",
    "        return a, 1, 0\n",
    "    # 辗转相除\n",
    "    gcd, x1, y1 = exgcd(b, a % b)\n",
    "    x = y1\n",
    "    y = x1 - (a // b) * y1\n",
    "    return gcd, x, y\n",
    "\n",
    "def inv(a, p):\n",
    "    gcd, x, y = exgcd(a, p)\n",
    "\n",
    "    if gcd != 1:\n",
    "        raise ValueError(f\"The modular inverse does not exist for {a} mod {p}\")\n",
    "\n",
    "    return (x % p + p) % p"
   ]
  },
  {
   "cell_type": "code",
   "execution_count": null,
   "metadata": {},
   "outputs": [],
   "source": [
    "# 费马小定理\n",
    "# 快速幂：O(logn)\n",
    "def power(base,exp,p):\n",
    "    res = 1\n",
    "    base = base % p\n",
    "    while exp > 0:\n",
    "        if exp % 2 == 1:\n",
    "            res = (res*base)%p\n",
    "        exp = exp // 2\n",
    "        base = (base*base)%p\n",
    "    return res\n",
    "def inv(a,p):\n",
    "    return power(a,p-2,p)"
   ]
  },
  {
   "cell_type": "markdown",
   "metadata": {},
   "source": [
    "**Lucas定理**：\n",
    "> $C_m^n \\equiv C_{m\\%p}^{n\\%p}*C_{m//p}^{n//p}\\pmod{p}$\\\n",
    "> 特别地，当 m < n 时，令 $C_{m}^{n} \\equiv 0$"
   ]
  },
  {
   "cell_type": "markdown",
   "metadata": {},
   "source": [
    "排列组合的基本性质：\n",
    "1. $A_n^m = \\frac {n!}{(n-m)!}$\n",
    "2. $C_n^m = \\frac {n!}{(n-m)!*m!}$\n",
    "3. $C_n^m = C_n^{n-m}$"
   ]
  }
 ],
 "metadata": {
  "language_info": {
   "name": "python"
  }
 },
 "nbformat": 4,
 "nbformat_minor": 2
}
