{
 "cells": [
  {
   "cell_type": "markdown",
   "metadata": {},
   "source": [
    "# 约数个数专题\n",
    "**约数个数定理：**\n",
    "> 对任意一个大于1的正整数 $X$ 都可以表示为若干个质数乘积的格式，即 $X = P_1^{a_1} * P_2^{a_2} * ... * P_k^{a_k}$，则约数的个数就是 $(a_1 + 1)*(a_2 + 1)*...*(a_k + 1)$"
   ]
  },
  {
   "cell_type": "markdown",
   "metadata": {},
   "source": [
    "### 例题 1："
   ]
  }
 ],
 "metadata": {
  "language_info": {
   "name": "python"
  }
 },
 "nbformat": 4,
 "nbformat_minor": 2
}
