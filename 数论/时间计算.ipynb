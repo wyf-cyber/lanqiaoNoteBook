{
 "cells": [
  {
   "cell_type": "markdown",
   "metadata": {},
   "source": [
    "# 时间计算"
   ]
  },
  {
   "cell_type": "markdown",
   "metadata": {},
   "source": [
    "## 一、年份计算\n",
    "**要点：**\n",
    "1. 闰年\\\n",
    "特点：2月有29天，全年366天\\\n",
    "计算方法：公历年份是4的倍数，且不是100的倍数的，为闰年（如2004年、2020年等就是闰年）。公历年份是100的倍数，必须是400的倍数才是闰年（如1900年不是闰年，2000年是闰年）。"
   ]
  },
  {
   "cell_type": "markdown",
   "metadata": {},
   "source": [
    "### 例题: 特殊日期（5分）\n",
    "**问题描述:**\n",
    "> 记一个日期为 yy 年 mm 月 dd 日，统计从 2000 年 1 月 1 日到 2000000 年 1 月 1 日：有多少个日期满足年份 yy 是月份 mm 的倍数，同时也是 dd 的倍数。\n",
    "\n",
    "**答案提交:**\n",
    "> 这是一道结果填空的题，你只需要算出结果后提交即可。本题的结果为一个整数，在提交答案时只输出这个整数，输出多余的内容将无法得分。\n",
    "\n",
    "**题目答案：**\n",
    "> 35813063\n",
    "\n",
    "**要点：**\n",
    "> 闰年的二月是29天，非闰年的二月是28天"
   ]
  },
  {
   "cell_type": "code",
   "execution_count": null,
   "metadata": {},
   "outputs": [],
   "source": [
    "def judge(y):\n",
    "    ans = False\n",
    "    if y%100 != 0:\n",
    "        if y%4 == 0:\n",
    "            ans = True\n",
    "    else:\n",
    "        if y%400 == 0:\n",
    "            ans = True\n",
    "    return ans\n",
    "\n",
    "# 先打表记录每一个月份的天数\n",
    "monthes = [31,28,31,30,31,30,31,31,30,31,30,31]\n",
    "# 循环遍历\n",
    "count = 0\n",
    "for y in range(2000,2000000):\n",
    "    # 判断是否为闰年\n",
    "    if judge(y):\n",
    "        monthes[1] = 29\n",
    "    for m in range(1,13):\n",
    "        for d in range(1,monthes[m-1]+1):\n",
    "            if y%m == 0 and y%d == 0:\n",
    "                count += 1\n",
    "print(count)"
   ]
  },
  {
   "cell_type": "markdown",
   "metadata": {},
   "source": [
    "## 二、日期计算\n",
    "**要点：**\n",
    "1. 时差可以通过将往返时间进行加和抵消\n",
    "2. 跨天的时间计算需要加上模\n",
    "3. 输入日期可以先转化为元组以便读取"
   ]
  },
  {
   "cell_type": "markdown",
   "metadata": {},
   "source": [
    "### 例题1：航班时间\n",
    "> 题目链接：[航班时间（蓝桥杯）](https://www.lanqiao.cn/problems/175/learning/?page=1&first_category_id=1&second_category_id=3&name=%E6%97%B6%E9%97%B4)"
   ]
  },
  {
   "cell_type": "code",
   "execution_count": null,
   "metadata": {},
   "outputs": [],
   "source": [
    "TIAN = 24*60*60\n",
    "# 用于将字符串时间--:--:--转换成秒数存储起来\n",
    "def c(s):\n",
    "    h = int(s[0:2])\n",
    "    m = int(s[3:5])\n",
    "    s = int(s[6:])\n",
    "    # 将所有单位转化成秒以便计算后续时间\n",
    "    res = (h*60 + m)*60 + s\n",
    "\n",
    "def b(n):\n",
    "    s = str(n)\n",
    "    l = len(s)\n",
    "    if l == 0:\n",
    "        return '00'\n",
    "    elif l == 1:\n",
    "        return '0'+s\n",
    "    return s\n",
    "\n",
    "# 创建一个函数将总秒数转换成时间\n",
    "def fix(n):\n",
    "    s = n%60\n",
    "    n //= 60\n",
    "    m = n%60\n",
    "    n //= 60\n",
    "    h = n%24\n",
    "    # 由于飞行时间不超过24小时，所以不需要考虑小时的跨天情况\n",
    "    # 先补全各个数字的前导0\n",
    "    print(b(h)+':'+b(m)+':'+b(s))\n",
    "\n",
    "# main part\n",
    "def f():\n",
    "    p = [i for i in input().split()]\n",
    "    q = [i for i in input().split()]\n",
    "    # 检查是否存在跨天情况\n",
    "    day = 0 # 记录需要补上的总天数\n",
    "    if len(p) == 3:\n",
    "        day += int(p[2][2])\n",
    "    if len(q) == 3:\n",
    "        day += int(q[2][2])\n",
    "    # 将两段时间的差值进行加和\n",
    "    fix((c(p[1]) + c(q[1]) - c(p[0]) - c(q[0]) + day*TIAN)//2)\n",
    "\n",
    "t = int(input())\n",
    "for _ in range(t):\n",
    "    f()"
   ]
  },
  {
   "cell_type": "markdown",
   "metadata": {},
   "source": [
    "## 三、时间计算"
   ]
  },
  {
   "cell_type": "markdown",
   "metadata": {},
   "source": [
    "### 例题1 调手表\n",
    "\n",
    "> 题目链接：[调手表（蓝桥杯）](https://www.lanqiao.cn/problems/230/learning/?page=1&first_category_id=1&second_category_id=3&name=%E8%B0%83%E6%89%8B%E8%A1%A8)"
   ]
  },
  {
   "cell_type": "code",
   "execution_count": null,
   "metadata": {},
   "outputs": [],
   "source": [
    "# 模拟问题\n",
    "# 注意到对于一个时刻 t = 1*x + k*y \n",
    "# 跳1秒与跳k秒之间没有先后顺序，所以可以利用贪心算法先求出所有可以只通过跳k秒就可以到达的节点\n",
    "# 然后以这些节点为端点分割整个区间，最后将其余不能直接到达的节点从最靠近的左侧节点\n",
    "# dp 结合时间计算\n",
    "# 对于每一个时间节点 t[i] 都有 t[i-1] 和 t[i-k] 两个前驱节点\n",
    "n,k = map(int,input().split())\n",
    "# initialize\n",
    "dp = [i for i in range(n)]\n",
    "cur = k\n",
    "for i in range(1,n):\n",
    "    # 贪心算法，求出所有能够只通过按+k按钮就可跳到的时刻，并求其最小值\n",
    "    cur = cur%n\n",
    "    dp[cur] = min(dp[cur], i)\n",
    "    cur += k\n",
    "# 遍历整个数组，更新所有不能只通过+k就可到达的节点\n",
    "for i in range(1,n):\n",
    "    dp[i] = min(dp[(i-1+n)%n] + 1, dp[(i-k+n)%n] + 1, dp[i]) \n",
    " \n",
    "print(max(dp))"
   ]
  }
 ],
 "metadata": {
  "language_info": {
   "name": "python"
  }
 },
 "nbformat": 4,
 "nbformat_minor": 2
}
