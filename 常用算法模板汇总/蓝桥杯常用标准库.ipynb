{
 "cells": [
  {
   "cell_type": "markdown",
   "metadata": {},
   "source": [
    "# 蓝桥杯常用标准库"
   ]
  },
  {
   "cell_type": "code",
   "execution_count": null,
   "metadata": {},
   "outputs": [],
   "source": [
    "# 有默认初始值0的字典\n",
    "from collections import defaultdict\n",
    "\n",
    "d = defaultdict(int)\n",
    "print(d[0]) # output:0"
   ]
  },
  {
   "cell_type": "code",
   "execution_count": null,
   "metadata": {},
   "outputs": [],
   "source": [
    "# 递归深度设置器\n",
    "# 蓝桥杯编译器默认递归深度不超过1000，实测可以扩展为100000也不会超时\n",
    "from sys import setrecursionlimit\n",
    "\n",
    "setrecursionlimit(100000) "
   ]
  },
  {
   "cell_type": "code",
   "execution_count": null,
   "metadata": {},
   "outputs": [],
   "source": [
    "# 求最大公因数\n",
    "from math import gcd,ceil,floor,log\n",
    "\n",
    "a, b = 10, 2\n",
    "print(gcd(a,b)) # output:2\n",
    "print(ceil(b/a)) # output:1\n",
    "print(floor(b/a)) # output:0\n",
    "print(log(a,b)) # output:log_b(a) = 3.3219280948873626"
   ]
  }
 ],
 "metadata": {
  "language_info": {
   "name": "python"
  }
 },
 "nbformat": 4,
 "nbformat_minor": 2
}
