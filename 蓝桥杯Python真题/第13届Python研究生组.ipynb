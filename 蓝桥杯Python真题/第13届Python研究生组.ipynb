{
 "cells": [
  {
   "cell_type": "markdown",
   "metadata": {},
   "source": [
    "# 第13届Python研究生组"
   ]
  },
  {
   "cell_type": "markdown",
   "metadata": {},
   "source": [
    "## 试题1：最少的1\n",
    "> 题目链接：[最少的1](https://www.lanqiao.cn/problems/2230/learning/?page=1&first_category_id=1&second_category_id=3&name=%E6%9C%80%E5%B0%91%E7%9A%841)"
   ]
  },
  {
   "cell_type": "code",
   "execution_count": null,
   "metadata": {},
   "outputs": [],
   "source": [
    "# 注意到数据量只有10的6次方，尝试使用暴力搜索\n",
    "# 只能过40%\n",
    "n = int(input())\n",
    "num = n*2\n",
    "minAns = 300\n",
    "for i in range(100000):\n",
    "    temp = list(bin(num)[2:]).count('1')\n",
    "    minAns = min(temp, minAns)\n",
    "    num += n\n",
    "print(minAns)"
   ]
  },
  {
   "cell_type": "code",
   "execution_count": null,
   "metadata": {},
   "outputs": [],
   "source": [
    "# 通过分析，很可能是枚举的数据量不足，但使用更大规模的搜索会增大运行时间\n",
    "# 首次优化，注意到在二进制中乘2相当于在01串末尾添加一个0，这并不会改变二进制串中1的数量，所以除了2倍以外所有的偶数倍都不必搜索\n",
    "# 提交以后发现仍然只能通过40%\n",
    "n = int(input())\n",
    "num = n\n",
    "minAns = 100\n",
    "for i in range(0,200001,2):\n",
    "    temp = list(bin(num)[2:]).count('1')\n",
    "    minAns = min(minAns, temp)\n",
    "    num += n\n",
    "print(minAns) "
   ]
  },
  {
   "cell_type": "code",
   "execution_count": null,
   "metadata": {},
   "outputs": [],
   "source": [
    "# 经过以上两次的暴力枚举，可以发现通过倍数本身搜索的方法是不可行的，我们需要绕过倍数，直接寻找拥有最少1个数的n的倍数\n",
    "# 观察到在二进制串中，可以仅通过+1和末尾加0操作绕开进位问题\n",
    "# 两种递归方法共同作用相当于在一个图中寻找到达固定节点（n的倍数）的最短路径\n",
    "# 由倍数的特点可知，我们可以用0~n-1代表整个搜索空间中的数对n取余的结果\n",
    "# 已知n*2中1的个数与n相同，所以先从n开始搜索，也就是从节点0开始搜索，当第一次绕回到0时，此时在搜索过程中插入1的次数就是所求结果\n",
    "# 问题转换成最短路径问题，用BFS搜索解决\n",
    "from collections import deque\n",
    "\n",
    "n = int(input())\n",
    "# 记录从1到i节点所需要的最小步数\n",
    "mindist = [float('inf') for i in range(n)]\n",
    "q = deque()\n",
    "q.append((1%n,0))\n",
    "while q:\n",
    "    k,t = q.popleft()\n",
    "    if t < mindist[k]:\n",
    "        mindist[k] = t # 如果当前节点状态的代价更小，就更新代价，否则直接舍弃，因为肯定不是最优路径\n",
    "        if k%2:\n",
    "            # 如果是奇数，k只能进行补0操作，由于补零操作不增加1的个数，所以直接加到队列左端优先处理\n",
    "            q.appendleft(((k*2)%n, t)) \n",
    "        else:\n",
    "            # 是偶数，既可以进行补0操作，也可以进行加1操作\n",
    "            q.appendleft(((k*2)%n, t))\n",
    "            q.append(((k+1)%n, t+1)) # 注意加一操作增大了1的个数，所以放置在队尾靠后处理\n",
    "print(mindist[0] + 1) # 注意数组是1到i的距离，还需要补上0到1的距离，二者之间的距离固定为1"
   ]
  },
  {
   "cell_type": "markdown",
   "metadata": {},
   "source": [
    "### 试题2 "
   ]
  }
 ],
 "metadata": {
  "language_info": {
   "name": "python"
  }
 },
 "nbformat": 4,
 "nbformat_minor": 2
}
